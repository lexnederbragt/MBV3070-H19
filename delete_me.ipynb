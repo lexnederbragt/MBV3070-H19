{
 "cells": [
  {
   "cell_type": "code",
   "execution_count": 2,
   "metadata": {},
   "outputs": [
    {
     "name": "stdout",
     "output_type": "stream",
     "text": [
      "acgtgc\n",
      "ACGTGC\n"
     ]
    }
   ],
   "source": [
    "dna1 = \"acgtgc\"\n",
    "print(dna1)\n",
    "dna2 = dna1.upper()\n",
    "print(dna2)"
   ]
  },
  {
   "cell_type": "code",
   "execution_count": 1,
   "metadata": {},
   "outputs": [
    {
     "name": "stdout",
     "output_type": "stream",
     "text": [
      "acgtgc\n",
      "ACGTGC\n"
     ]
    }
   ],
   "source": [
    "dna1 = \"acgtgc\"\n",
    "dna2 = ''\n",
    "print(dna1)\n",
    "for base in dna1:\n",
    "    dna2 = dna2 + base.upper()\n",
    "print(dna2)"
   ]
  },
  {
   "cell_type": "code",
   "execution_count": 1,
   "metadata": {},
   "outputs": [],
   "source": [
    "from metakernel import register_ipython_magics\n",
    "register_ipython_magics()"
   ]
  },
  {
   "cell_type": "code",
   "execution_count": 3,
   "metadata": {},
   "outputs": [
    {
     "data": {
      "text/html": [
       "\n",
       "        <iframe\n",
       "            width=\"100%\"\n",
       "            height=\"500\"\n",
       "            src=\"https://pythontutor.com/iframe-embed.html#code=velocity%20%3D%2010.0%0Afor%20i%20in%20range%285%29%3A%20%23%20execute%20the%20loop%205%20times%0A%20%20%20%20print%28i%2C%20%27%3A%27%2C%20velocity%29%0A%20%20%20%20if%20velocity%20%3E%2020.0%3A%0A%20%20%20%20%20%20%20%20print%28%27moving%20too%20fast%27%29%0A%20%20%20%20%20%20%20%20velocity%20%3D%20velocity%20-%205.0%0A%20%20%20%20else%3A%0A%20%20%20%20%20%20%20%20print%28%27moving%20too%20slow%27%29%0A%20%20%20%20%20%20%20%20velocity%20%3D%20velocity%20%2B%2010.0%0Aprint%28%27final%20velocity%3A%27%2C%20velocity%29%0A&origin=opt-frontend.js&cumulative=false&heapPrimitives=false&textReferences=false&py=3&rawInputLstJSON=%5B%5D&curInstr=0&codeDivWidth=350&codeDivHeight=400\"\n",
       "            frameborder=\"0\"\n",
       "            allowfullscreen\n",
       "        ></iframe>\n",
       "        "
      ],
      "text/plain": [
       "<IPython.lib.display.IFrame at 0x106564080>"
      ]
     },
     "metadata": {},
     "output_type": "display_data"
    }
   ],
   "source": [
    "%%tutor\n",
    "velocity = 10.0\n",
    "for i in range(5): # execute the loop 5 times\n",
    "    print(i, ':', velocity)\n",
    "    if velocity > 20.0:\n",
    "        print('moving too fast')\n",
    "        velocity = velocity - 5.0\n",
    "    else:\n",
    "        print('moving too slow')\n",
    "        velocity = velocity + 10.0\n",
    "print('final velocity:', velocity)"
   ]
  },
  {
   "cell_type": "code",
   "execution_count": null,
   "metadata": {},
   "outputs": [],
   "source": []
  }
 ],
 "metadata": {
  "kernelspec": {
   "display_name": "Python 3",
   "language": "python",
   "name": "python3"
  },
  "language_info": {
   "codemirror_mode": {
    "name": "ipython",
    "version": 3
   },
   "file_extension": ".py",
   "mimetype": "text/x-python",
   "name": "python",
   "nbconvert_exporter": "python",
   "pygments_lexer": "ipython3",
   "version": "3.6.7"
  }
 },
 "nbformat": 4,
 "nbformat_minor": 2
}
